{
 "cells": [
  {
   "cell_type": "markdown",
   "metadata": {},
   "source": [
    "仿照gym的形式进行测试"
   ]
  },
  {
   "cell_type": "code",
   "execution_count": 1,
   "metadata": {
    "collapsed": true
   },
   "outputs": [],
   "source": [
    "from rlcard.envs.registration import register, make"
   ]
  },
  {
   "cell_type": "markdown",
   "metadata": {},
   "source": [
    "关于make的调用 见test_registration.py  \n",
    "环境注册的入口位于：rlcard/envs/__init__.py"
   ]
  },
  {
   "cell_type": "code",
   "execution_count": 2,
   "metadata": {
    "collapsed": true
   },
   "outputs": [],
   "source": [
    "env = make('no-limit-holdem')"
   ]
  },
  {
   "cell_type": "code",
   "execution_count": 3,
   "metadata": {},
   "outputs": [
    {
     "name": "stdout",
     "output_type": "stream",
     "text": [
      "初始状态: [0. 0. 0. 0. 0. 0. 0. 0. 0. 0. 0. 0. 0. 0. 0. 0. 0. 0. 0. 0. 0. 0. 0. 1.\n",
      " 0. 0. 0. 0. 1. 0. 0. 0. 0. 0. 0. 0. 0. 0. 0. 0. 0. 0. 0. 0. 0. 0. 0. 0.\n",
      " 0. 0. 0. 0. 1. 2.]\n"
     ]
    }
   ],
   "source": [
    "state = env.reset()\n",
    "print('初始状态:',state[0]['obs'])"
   ]
  },
  {
   "cell_type": "code",
   "execution_count": 4,
   "metadata": {},
   "outputs": [
    {
     "name": "stdout",
     "output_type": "stream",
     "text": [
      "({'legal_actions': [0, 2, 3, 4, 5], 'obs': array([0., 0., 0., 0., 0., 0., 0., 0., 0., 0., 0., 0., 0., 0., 0., 0., 0.,\n",
      "       0., 0., 0., 0., 0., 0., 1., 0., 0., 0., 0., 1., 0., 0., 0., 0., 0.,\n",
      "       0., 0., 0., 0., 0., 0., 0., 0., 0., 0., 0., 0., 0., 0., 0., 0., 0.,\n",
      "       0., 1., 2.])}, 1)\n",
      "<class 'tuple'>\n"
     ]
    }
   ],
   "source": [
    "print(state)\n",
    "print(type(state))"
   ]
  },
  {
   "cell_type": "markdown",
   "metadata": {},
   "source": [
    "关于state的解读  \n",
    "state是一个数组：包含legal_actions obs   "
   ]
  },
  {
   "cell_type": "markdown",
   "metadata": {},
   "source": [
    "env的一些属性:  \n",
    "player_num  \n",
    "action_num"
   ]
  }
 ],
 "metadata": {
  "kernelspec": {
   "display_name": "rlcard",
   "language": "python",
   "name": "rlcard"
  },
  "language_info": {
   "codemirror_mode": {
    "name": "ipython",
    "version": 3
   },
   "file_extension": ".py",
   "mimetype": "text/x-python",
   "name": "python",
   "nbconvert_exporter": "python",
   "pygments_lexer": "ipython3",
   "version": "3.6.3"
  }
 },
 "nbformat": 4,
 "nbformat_minor": 2
}
